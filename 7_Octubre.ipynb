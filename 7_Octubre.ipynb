{
  "nbformat": 4,
  "nbformat_minor": 0,
  "metadata": {
    "colab": {
      "name": "7-Octubre.ipynb",
      "provenance": [],
      "authorship_tag": "ABX9TyMuvy4nrvboZ3ZvVjjrf63E",
      "include_colab_link": true
    },
    "kernelspec": {
      "name": "python3",
      "display_name": "Python 3"
    }
  },
  "cells": [
    {
      "cell_type": "markdown",
      "metadata": {
        "id": "view-in-github",
        "colab_type": "text"
      },
      "source": [
        "<a href=\"https://colab.research.google.com/github/JCesar-M/daa_2021_1/blob/master/7_Octubre.ipynb\" target=\"_parent\"><img src=\"https://colab.research.google.com/assets/colab-badge.svg\" alt=\"Open In Colab\"/></a>"
      ]
    },
    {
      "cell_type": "markdown",
      "metadata": {
        "id": "31SY48eySg_J"
      },
      "source": [
        "#Busqueda lineal \n",
        "\n",
        "Dado un conjunto de datos no ordenados, la busqueda lineal consiste en el recorrer el conjunto de datos desde el inicio al final, moviendose de unos hasta encontrar el elemento o llegar al final del conjunto. \n",
        "\n",
        "datos = [ 4,18,47,2,34,14,78,12,48,21,31,19,1,3,5]\n",
        "\n",
        "#Busqueda binaria\n",
        "Funciona sobre un conjunto de datos lineal ordenado.\n",
        "\n",
        "Consiste en dividir el conjuto en mitades y buscar en la mitad, preguntas si el elemento  buscado no esta en la mitad, preguntas si el elemento esta a la derecha o a la izq. Haces la lista igual a la mitad correspondiente y repites el proceso.\n",
        "\n",
        "\n",
        "L = [1,2,3,4,5,12,14,18,19,21,31,34,47,48,78]\n",
        "DER = longitud(L) -1 \n",
        "IZQ =0\n",
        "\n",
        "MID apuntara  a la mitad del segmento de busqueda\n",
        "\n",
        "Buscado: es el valor a buscar \n",
        "\n",
        "1.Hacer DER = longitud (L) -1\n",
        "\n",
        "2.Hacer IZQ = 0\n",
        "\n",
        "3.Si IZQ > DER significa que hay un error \n",
        "\n",
        "4.en los datos\n",
        "\n",
        "5.Calcular MID = int(IZQ + DER/2)\n",
        "\n",
        "6.Mientras L(MID) != buscado hacer \n",
        "\n",
        "        - preguntar L(MiD) > buscado\n",
        "            - hacer DER = MID\n",
        "        - De los contrario\n",
        "           - HAcer IZQ = MID\n",
        "        - preguntar (DER -IZQ) % 2\n",
        "            - MID = (IZQ + (DER - IZQ)/2)\n",
        "        - de lo contrario \n",
        "            - MID = (IZQ +((DER -IZQ) /2)\n",
        "7. Reurn MID \n",
        "\n"
      ]
    },
    {
      "cell_type": "code",
      "metadata": {
        "id": "n0xy7gkYSW8U",
        "outputId": "a225e068-e7b4-4d3a-87ee-2396a7049f25",
        "colab": {
          "base_uri": "https://localhost:8080/"
        }
      },
      "source": [
        "\"\"\"Busqueda lineal \n",
        "regresa la posicion del elemmento 'buscado' si se encuentra dentro de la lista \n",
        "regresa -1 si el elemento buscado no existe dentro de la lista \n",
        "\"\"\"\n",
        "def busq_lineal ( L , buscado ):# Pasamos la lista y el elemento que se busca \n",
        "    indice = -1 \n",
        "    contador = 0\n",
        "    for idx in range(len(L)):\n",
        "        if L[idx] == buscado:\n",
        "           indice = idx\n",
        "           break \n",
        "    print(f\"Numero de comparaciones realizadas = {contador}\")\n",
        "    return indice\n",
        "\n",
        "\n",
        "\"\"\"\n",
        "Busqueda Binario\n",
        "\"\"\"\n",
        "\n",
        "def  buqueda_Binaria(L, buscado):\n",
        "     IZQ = 0\n",
        "     DER = len(L)-1\n",
        "     MID = int((IZQ + DER)/2)\n",
        "     if len(L) % 2 == 0:\n",
        "        MID = (DER //2)+1\n",
        "     else:\n",
        "        MID = DER //2\n",
        "     while (L[MID] != buscado ):\n",
        "          if L[MID] > buscado:\n",
        "            DER = MID\n",
        "          else:\n",
        "            IZQ = MID \n",
        "          if (DER - IZQ) % 2 == 0:\n",
        "              MID = IZQ + ((DER -IZQ)//2)\n",
        "          else: \n",
        "            MID = IZQ + ((DER - IZQ)//2)\n",
        "      \n",
        "     return MID\n",
        "\n",
        "def main():\n",
        "     datos = [4,18,47,2,34,14,78,12,48,21,31,19,1,3,5]\n",
        "     dato = int(input(\"Que valor quieres buscar: \"))\n",
        "     resultado = busq_lineal(datos, datos )\n",
        "     print(\"Resultado : \",resultado) \n",
        "     print(\"Busqueda lienal en una lista ordenada\")\n",
        "     datos.sort()\n",
        "     print(datos)\n",
        "     resultado = busq_lineal(datos, dato)\n",
        "     print(\"Resultado: \",resultado)\n",
        "     print(\"Busqueda binaria\")\n",
        "     \n",
        "main()"
      ],
      "execution_count": 14,
      "outputs": [
        {
          "output_type": "stream",
          "text": [
            "Que valor quieres buscar: 12\n",
            "Numero de comparaciones realizadas = 0\n",
            "Resultado :  -1\n",
            "Busqueda lienal en una lista ordenada\n",
            "[1, 2, 3, 4, 5, 12, 14, 18, 19, 21, 31, 34, 47, 48, 78]\n",
            "Numero de comparaciones realizadas = 0\n",
            "Resultado:  5\n",
            "Busqueda binaria\n"
          ],
          "name": "stdout"
        }
      ]
    }
  ]
}