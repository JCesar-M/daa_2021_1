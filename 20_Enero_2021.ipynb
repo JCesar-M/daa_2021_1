{
  "nbformat": 4,
  "nbformat_minor": 0,
  "metadata": {
    "colab": {
      "name": "20-Enero-2021.ipynb",
      "provenance": [],
      "collapsed_sections": [],
      "authorship_tag": "ABX9TyM3nSai2K4HC0DuxWkX6i7A",
      "include_colab_link": true
    },
    "kernelspec": {
      "name": "python3",
      "display_name": "Python 3"
    }
  },
  "cells": [
    {
      "cell_type": "markdown",
      "metadata": {
        "id": "view-in-github",
        "colab_type": "text"
      },
      "source": [
        "<a href=\"https://colab.research.google.com/github/JCesar-M/daa_2021_1/blob/master/20_Enero_2021.ipynb\" target=\"_parent\"><img src=\"https://colab.research.google.com/assets/colab-badge.svg\" alt=\"Open In Colab\"/></a>"
      ]
    },
    {
      "cell_type": "code",
      "metadata": {
        "id": "e4ONIx28Ziyk"
      },
      "source": [
        "class NodoArbol:\r\n",
        "    def __init__( self , dato , value ,hijo_izq=None , hijo_der=None):\r\n",
        "        self.dato = dato\r\n",
        "        self.left = hijo_izq\r\n",
        "        self.right = hijo_der\r\n",
        "        self.value = value"
      ],
      "execution_count": 22,
      "outputs": []
    },
    {
      "cell_type": "code",
      "metadata": {
        "id": "f3J-W3NpS6BV"
      },
      "source": [
        "class BinarySearchTree: \r\n",
        "    def __init__(self):\r\n",
        "        self.__root = None\r\n",
        "    \r\n",
        "    def insert(self , value):\r\n",
        "      if self.__root == None: \r\n",
        "        self.__root = NodoArbol(value,None,None)\r\n",
        "      else: \r\n",
        "        #preguntar si value es menor que root , de ser el caso \r\n",
        "        #Insertar a la izq. Pero... puede ser caso que el sub arbol \r\n",
        "        #izq ya tenga muchos elementos...\r\n",
        "        self.__insert_nodo_(self.__root,None ,value)\r\n",
        "\r\n",
        "    def __insert_Nodo_(self, nodo, value):\r\n",
        "        if nodo.dato == value: \r\n",
        "          pass\r\n",
        "        elif value < nodo.dato: \r\n",
        "            if nodo.left == None: \r\n",
        "               nodo.left = NodoArbol(value,None,None)\r\n",
        "            else: \r\n",
        "              self.__insert_nodo_(nodo.left,value)\r\n",
        "        else: \r\n",
        "          if nodo.right == None: \r\n",
        "             nodo.right = NodoArbol(value,None,None)\r\n",
        "          else: \r\n",
        "            self.__insert_nodo_(nodo.right,value)\r\n",
        "\r\n",
        "    def __busca_nodo(sefl,nodo,value):\r\n",
        "        if nodo == None:\r\n",
        "          return  None \r\n",
        "        elif nodo.dato == value:\r\n",
        "          return nodo.dato\r\n",
        "        elif value < nodo.dato:\r\n",
        "          return self.__busca_nodo(nodo.left,value)\r\n",
        "        else:\r\n",
        "          return self.__busca_nodo(nodo.right,value)\r\n",
        "\r\n",
        "\r\n",
        "    def __transversal(self, format = \"inorden\"):\r\n",
        "        if format == \"inorden\":\r\n",
        "           self.__recorrido_in(self.root)\r\n",
        "        elif format == \"preorden\":\r\n",
        "          self.__recorrido_pre(self.root)\r\n",
        "        elif format == \"posorden\":\r\n",
        "          self.__recorrido_pos(self.root)\r\n",
        "        else:\r\n",
        "          print(\"Formato de recorrido no valido\")\r\n",
        "\r\n",
        "    def __recorrido_pre(self, nodo):\r\n",
        "      if nodo != None:\r\n",
        "        print(nodo.dato, end=\",\")\r\n",
        "        self.__recorrido_pre(nodo.left)\r\n",
        "        self.__recorrido_pre(nodo.right)\r\n",
        "\r\n",
        "    def __recorrido_in(self, nodo):\r\n",
        "      if nodo != None:\r\n",
        "        self.__recorrido_in(nodo.left)\r\n",
        "        print(nodo.dato, end=\",\")\r\n",
        "        self.__recorrido_in(nodo.right)\r\n",
        "\r\n",
        "    def __recorrido_pos(self, nodo):\r\n",
        "      if nodo != None:\r\n",
        "        self.__recorrido_pod(nodo.left)\r\n",
        "        self.__recorrido_pod(nodo.right)\r\n",
        "        print(nodo.dato, end=\",\")"
      ],
      "execution_count": 30,
      "outputs": []
    },
    {
      "cell_type": "code",
      "metadata": {
        "id": "P1fJlXMHVkGT"
      },
      "source": [
        "bst=BinarySearchTree()\r\n",
        "bst.insert(50)\r\n",
        "bst.insert(30)\r\n",
        "bst.insert(20)\r\n",
        "res = bst.buscar(30)\r\n",
        "print(\"Dato: \"+str(res))\r\n",
        "print(bst.buscar(40))\r\n",
        "bst.transversal(format = \"posorden\")"
      ],
      "execution_count": null,
      "outputs": []
    }
  ]
}