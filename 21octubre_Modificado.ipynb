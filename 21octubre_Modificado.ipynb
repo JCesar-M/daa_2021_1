{
  "nbformat": 4,
  "nbformat_minor": 0,
  "metadata": {
    "colab": {
      "name": "21octubre_Modificado.ipynb",
      "provenance": [],
      "collapsed_sections": [],
      "authorship_tag": "ABX9TyOynNBPWwaEu07d+NsAMi5v",
      "include_colab_link": true
    },
    "kernelspec": {
      "name": "python3",
      "display_name": "Python 3"
    }
  },
  "cells": [
    {
      "cell_type": "markdown",
      "metadata": {
        "id": "view-in-github",
        "colab_type": "text"
      },
      "source": [
        "<a href=\"https://colab.research.google.com/github/JCesar-M/daa_2021_1/blob/master/21octubre_Modificado.ipynb\" target=\"_parent\"><img src=\"https://colab.research.google.com/assets/colab-badge.svg\" alt=\"Open In Colab\"/></a>"
      ]
    },
    {
      "cell_type": "code",
      "metadata": {
        "id": "zrDmI6wzanJA",
        "outputId": "2d0d1dbc-4376-4787-a76c-d87237e945ec",
        "colab": {
          "base_uri": "https://localhost:8080/",
          "height": 199
        }
      },
      "source": [
        "#T(n) = 4 \n",
        "from time import time\n",
        "def ejemplo1( n ):\n",
        "    start_time = time()\n",
        "    c = n + 1\n",
        "    d = c * n\n",
        "    e = n * n\n",
        "    total = c + e - d\n",
        "    #print(f\"total={ total }\")\n",
        "    elapsed_time = time() - start_time\n",
        "    print(\" %0.10f s\" % elapsed_time)\n",
        "for n in  range (100,1100,100 ):\n",
        "  ejemplo1( n )\n",
        "\n"
      ],
      "execution_count": null,
      "outputs": [
        {
          "output_type": "stream",
          "text": [
            "0.0000014305 segundos.\n",
            "0.0000016689 segundos.\n",
            "0.0000009537 segundos.\n",
            "0.0000002384 segundos.\n",
            "0.0000004768 segundos.\n",
            "0.0000007153 segundos.\n",
            "0.0000004768 segundos.\n",
            "0.0000004768 segundos.\n",
            "0.0000004768 segundos.\n",
            "0.0000002384 segundos.\n"
          ],
          "name": "stdout"
        }
      ]
    },
    {
      "cell_type": "code",
      "metadata": {
        "id": "bIhaRSDFjAPF",
        "outputId": "d57a318d-ea75-4a63-cf5b-0ebfa425cfe3",
        "colab": {
          "base_uri": "https://localhost:8080/",
          "height": 199
        }
      },
      "source": [
        "#T(n) = 1+n^2\n",
        "from time import time\n",
        "def ejemplo2( n ):\n",
        "    start_time = time()\n",
        "    contador = 0\n",
        "    for i in range( n ) :\n",
        "        for j in range( n ) :\n",
        "            contador += 1\n",
        "    elapsed_time = time() - start_time\n",
        "    print(\" %0.10f s\" % elapsed_time)\n",
        "    return contador\n",
        "\n",
        "for n in  range (100,1100,100 ):\n",
        "  ejemplo2( n )\n"
      ],
      "execution_count": null,
      "outputs": [
        {
          "output_type": "stream",
          "text": [
            "0.0004525185 s\n",
            "0.0019130707 s\n",
            "0.0045809746 s\n",
            "0.0090093613 s\n",
            "0.0202541351 s\n",
            "0.0243089199 s\n",
            "0.0312066078 s\n",
            "0.0332522392 s\n",
            "0.0425481796 s\n",
            "0.0528936386 s\n"
          ],
          "name": "stdout"
        }
      ]
    },
    {
      "cell_type": "code",
      "metadata": {
        "id": "G6dUreH7i5me",
        "outputId": "8ea83eee-8749-40eb-90fe-2101cf6118dc",
        "colab": {
          "base_uri": "https://localhost:8080/",
          "height": 199
        }
      },
      "source": [
        "#T(n) = 102, es una funcion constante por que el for ya tiene un rango (100) + las otras asignaciones\n",
        "from time import time\n",
        "def ejemplo3( n ): # n=4\n",
        "    start_time = time()\n",
        "    x = n * 2 # x = 8\n",
        "    y = 0   # y = 0\n",
        "    for m in range( 100 ): #3\n",
        "        y = x - n   # y = 4\n",
        "    elapsed_time = time() - start_time\n",
        "    print(\" %0.10f s\" % elapsed_time)\n",
        "    return y\n",
        "\n",
        "for n in  range (100,1100,100 ):\n",
        "  ejemplo3( n )\n",
        "\n",
        "\n"
      ],
      "execution_count": null,
      "outputs": [
        {
          "output_type": "stream",
          "text": [
            "0.0000071526 s\n",
            "0.0000073910 s\n",
            "0.0000090599 s\n",
            "0.0000095367 s\n",
            "0.0000088215 s\n",
            "0.0000088215 s\n",
            "0.0000085831 s\n",
            "0.0000090599 s\n",
            "0.0000088215 s\n",
            "0.0000088215 s\n"
          ],
          "name": "stdout"
        }
      ]
    },
    {
      "cell_type": "code",
      "metadata": {
        "id": "NiQj8_t-izaR",
        "outputId": "eeeaa1b8-5464-44e8-ec44-aa4b658935e7",
        "colab": {
          "base_uri": "https://localhost:8080/",
          "height": 199
        }
      },
      "source": [
        "# T(n) = 3\n",
        "from time import time\n",
        "def ejemplo4( n ):\n",
        "    start_time = time()\n",
        "    x = 3 * 3.1416 + n\n",
        "    y = x + 3 * 3 - n\n",
        "    z = x + y\n",
        "    elapsed_time = time() - start_time\n",
        "    print(\" %0.10f s\" % elapsed_time)\n",
        "    return z\n",
        "\n",
        "for n in  range (100,1100,100 ):\n",
        "  ejemplo4( n )\n",
        "\n"
      ],
      "execution_count": null,
      "outputs": [
        {
          "output_type": "stream",
          "text": [
            "0.0000009537 s\n",
            "0.0000007153 s\n",
            "0.0000002384 s\n",
            "0.0000004768 s\n",
            "0.0000002384 s\n",
            "0.0000002384 s\n",
            "0.0000002384 s\n",
            "0.0000004768 s\n",
            "0.0000007153 s\n",
            "0.0000004768 s\n"
          ],
          "name": "stdout"
        }
      ]
    },
    {
      "cell_type": "code",
      "metadata": {
        "id": "f6OVZD_HieAZ",
        "outputId": "9c28d8e9-e32d-4c3b-d377-3facd498bcd0",
        "colab": {
          "base_uri": "https://localhost:8080/",
          "height": 199
        }
      },
      "source": [
        "#T(n) = 1+x\n",
        "from time import time\n",
        "def ejemplo5( x ):\n",
        "    start_time = time()\n",
        "    n = 10\n",
        "    for j in range( 0 , x , 1 ): # En un rango de 0 a X y que va de 1 en 1\n",
        "        n = j + n\n",
        "    elapsed_time = time() - start_time\n",
        "    print(\" %0.10f s\" % elapsed_time)\n",
        "    return n\n",
        "\n",
        "for n in  range (100,1100,100 ):\n",
        "  ejemplo5( n )\n"
      ],
      "execution_count": null,
      "outputs": [
        {
          "output_type": "stream",
          "text": [
            "0.0000095367 s\n",
            "0.0000157356 s\n",
            "0.0000257492 s\n",
            "0.0000371933 s\n",
            "0.0000381470 s\n",
            "0.0000541210 s\n",
            "0.0000777245 s\n",
            "0.0000722408 s\n",
            "0.0000765324 s\n",
            "0.0000820160 s\n"
          ],
          "name": "stdout"
        }
      ]
    },
    {
      "cell_type": "code",
      "metadata": {
        "id": "8Cs2j2daiZCV",
        "outputId": "ee3ab373-cff7-4152-e62f-9287a0d760fa",
        "colab": {
          "base_uri": "https://localhost:8080/",
          "height": 199
        }
      },
      "source": [
        "# T(n) = 2 + n^3\n",
        "from time import time\n",
        "def ejemplo6( n ):\n",
        "    start_time = time()\n",
        "    data=[[[1 for x in range(n)] for x in range(n)]\n",
        "          for x in range(n)]\n",
        "    suma = 0\n",
        "    for d in range(n):\n",
        "        for r in range(n):\n",
        "            for c in range(n):\n",
        "                suma += data[d][r][c]\n",
        "    elapsed_time = time() - start_time\n",
        "    print(\"%0.10f s\" % elapsed_time)\n",
        "    return suma\n",
        "\n",
        "for n in  range (100,1100,100 ):\n",
        "  ejemplo6( n )"
      ],
      "execution_count": null,
      "outputs": [
        {
          "output_type": "stream",
          "text": [
            "0.1397447586 s\n",
            "0.9785208702 s\n",
            "3.5818004608 s\n",
            "9.0329384804 s\n",
            "18.3352601528 s\n",
            "31.5508613586 s\n",
            "51.4813709259 s\n",
            "76.3443791866 s\n",
            "111.5741174221 s\n",
            "159.5532476902 s\n"
          ],
          "name": "stdout"
        }
      ]
    },
    {
      "cell_type": "code",
      "metadata": {
        "id": "gIkuokfvnoyP",
        "outputId": "53eb0c7a-80af-40f2-a54e-4fbcd8ef7586",
        "colab": {
          "base_uri": "https://localhost:8080/",
          "height": 54
        }
      },
      "source": [
        "from time import time\n",
        "\n",
        "def ejemplo6( n ):\n",
        "    start_time = time()\n",
        "    data=[[[1 for x in range(n)] for x in range(n)] \n",
        "          for x in range(n)]\n",
        "    suma = 0\n",
        "    for d in range(n):\n",
        "        for r in range(n):\n",
        "            for c in range(n):\n",
        "                suma += data[d][r][c]\n",
        "    elapsed_time = time() - start_time\n",
        "    print(\"Tiempo transcurrido: %0.10f segundos.\" % elapsed_time)\n",
        "    return suma\n",
        "\n",
        "for n in  range (100,1100,100 ):\n",
        "  ejemplo6( n )"
      ],
      "execution_count": null,
      "outputs": [
        {
          "output_type": "stream",
          "text": [
            "Tiempo transcurrido: 0.0000050068 segundos.\n"
          ],
          "name": "stdout"
        },
        {
          "output_type": "execute_result",
          "data": {
            "text/plain": [
              "1"
            ]
          },
          "metadata": {
            "tags": []
          },
          "execution_count": 18
        }
      ]
    },
    {
      "cell_type": "code",
      "metadata": {
        "id": "Cl8CmPdc37-K"
      },
      "source": [
        "def ejemplo7( n ):\n",
        "    count = 0\n",
        "    for i in range( n ) :\n",
        "        for j in range( 25 ) :\n",
        "            for k in range( n ):\n",
        "                count += 1\n",
        "    return count\n",
        "# 1 + 25n^2"
      ],
      "execution_count": null,
      "outputs": []
    },
    {
      "cell_type": "code",
      "metadata": {
        "id": "H5Pg_rp14BXV"
      },
      "source": [
        "def ejemplo7_2( n ):\n",
        "    count = 0\n",
        "    for i in range( n ) :\n",
        "        for j in range( 25 ) :\n",
        "            for k in range( n ):\n",
        "                count += 1\n",
        "            for k in range( n ):\n",
        "                count += 1\n",
        "    return count # 1 + 25n^2 +25n^2\n"
      ],
      "execution_count": null,
      "outputs": []
    },
    {
      "cell_type": "code",
      "metadata": {
        "id": "FcJt3ZwBy3rC"
      },
      "source": [
        "def ejemplo8( numeros ): # numeros es una lista (arreglo en c)\n",
        "    total = 0\n",
        "    for index in range(len(numeros)):\n",
        "        total = numeros[index]\n",
        "    return total\n",
        "ejemplo8(numeros)\n"
      ],
      "execution_count": null,
      "outputs": []
    },
    {
      "cell_type": "code",
      "metadata": {
        "id": "yfngDIT24gYB"
      },
      "source": [
        "def ejemplo9(  n ):\n",
        "    contador = 0\n",
        "    basura = 0\n",
        "    for i in range( n ) :\n",
        "        contador += 1\n",
        "    for j in range( n ) :\n",
        "        contador += 1\n",
        "    basura = basura + contador\n",
        "    return contador\n",
        "\n",
        "\n",
        "print(ejemplo9( 5 ))"
      ],
      "execution_count": null,
      "outputs": []
    },
    {
      "cell_type": "code",
      "metadata": {
        "id": "-B-ZF09S4uho"
      },
      "source": [
        "def ejemplo10( n ):\n",
        "    count = 0\n",
        "    for i in range( n ) :\n",
        "        for j in range( i+1 ) :\n",
        "            count += 1\n",
        "    return count\n",
        "print(ejemplo10(5)) \n",
        "\n",
        "# 1 + (n^n2)/2\n",
        "\n",
        "\"\"\"\n",
        "n= 3\n",
        "000\n",
        "n00 <-- aqui empieza el for interno\n",
        "nn0 <--- aqui termina el for interno\n",
        "nnn\n",
        "n = 4\n",
        "0000\n",
        "n000 <-- aqui empieza el for interno\n",
        "nn00\n",
        "nnn0 <--- aqui termina el for interno\n",
        "nnnn\n",
        "\n",
        "n =5\n",
        "00000\n",
        "n0000 <-- aqui empieza el for interno\n",
        "nn000\n",
        "nnn00\n",
        "nnnn0 <--- aqui termina el for interno\n",
        "nnnnn\n",
        "\"\"\""
      ],
      "execution_count": null,
      "outputs": []
    },
    {
      "cell_type": "code",
      "metadata": {
        "id": "g_Wt8ofqhY8o"
      },
      "source": [
        "def ejemplo11( n ):\n",
        "    count = 0\n",
        "    i = n\n",
        "    while i > 1 :\n",
        "        count += 1\n",
        "        i = i // 2 \n",
        "    return count\n",
        "print(ejemplo11(16))\n",
        "# T(n) =  2 + (2 Log 2 n)"
      ],
      "execution_count": null,
      "outputs": []
    },
    {
      "cell_type": "code",
      "metadata": {
        "id": "1dJ46uFEiE0f"
      },
      "source": [
        "def ejemplo12( n ):\n",
        "    contador = 0\n",
        "    for x in range(n):\n",
        "        contador += ejemplo11(x)\n",
        "    return contador\n",
        "#T(n) = 1+n(2+2log2(n))\n",
        "\n",
        "def ejemplo12_bis( n=5 ):\n",
        "    contador = 0\n",
        "    contador = contador + ejemplo11(0) # 0\n",
        "    contador = contador + ejemplo11(1) # 0\n",
        "    contador = contador + ejemplo11(2) # 1\n",
        "    contador = contador + ejemplo11(3) # 1\n",
        "    contador = contador + ejemplo11(4) # 2\n",
        "    return contador\n",
        "ejemplo12_bis( 5 )  "
      ],
      "execution_count": null,
      "outputs": []
    },
    {
      "cell_type": "code",
      "metadata": {
        "id": "h_FVYhq6mcDU"
      },
      "source": [
        "def ejemplo13( x ):\n",
        "    bandera = x\n",
        "    contador = 0\n",
        "    while( bandera >= 10):\n",
        "        print(f\" x = { bandera } \")\n",
        "        bandera /= 10\n",
        "        contador = contador + 1\n",
        "    print(contador)\n",
        "# T(x) = log10 x +1\n",
        "ejemplo13( 1000 )"
      ],
      "execution_count": null,
      "outputs": []
    },
    {
      "cell_type": "code",
      "metadata": {
        "id": "tk5ZVIb4ojOu"
      },
      "source": [
        "def ejemplo14( n ):\n",
        "    y = n\n",
        "    z = n\n",
        "    contador = 0\n",
        "    while y >= 3: #3\n",
        "        y /= 3  # 1\n",
        "        contador += 1  # cont =3\n",
        "    \n",
        "    while z >= 3: #27\n",
        "        z /= 3\n",
        "        contador += 1\n",
        "    return contador\n",
        "print(ejemplo14( 27 ))"
      ],
      "execution_count": null,
      "outputs": []
    },
    {
      "cell_type": "code",
      "metadata": {
        "id": "WcBDKAWWoknx"
      },
      "source": [
        "#1+n^2+log2(n)\n",
        "\n",
        "def ejemplo15( n ): \n",
        "    contador = 0\n",
        "    for i in range( n ) :\n",
        "        for j in range( n ) :\n",
        "            contador += 1\n",
        "            \n",
        "    while n > 1 :\n",
        "        contador += 1\n",
        "        n /= 2\n",
        "    return contador\n",
        "\n",
        "print(ejemplo15(10))"
      ],
      "execution_count": null,
      "outputs": []
    }
  ]
}