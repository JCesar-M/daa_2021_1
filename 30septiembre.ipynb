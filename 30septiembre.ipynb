{
  "nbformat": 4,
  "nbformat_minor": 0,
  "metadata": {
    "colab": {
      "name": "30septiembre.ipynb",
      "provenance": [],
      "collapsed_sections": [],
      "authorship_tag": "ABX9TyNPjuHrLH1lB0sXfIxJ67g3",
      "include_colab_link": true
    },
    "kernelspec": {
      "name": "python3",
      "display_name": "Python 3"
    }
  },
  "cells": [
    {
      "cell_type": "markdown",
      "metadata": {
        "id": "view-in-github",
        "colab_type": "text"
      },
      "source": [
        "<a href=\"https://colab.research.google.com/github/JCesar-M/daa_2021_1/blob/master/30septiembre.ipynb\" target=\"_parent\"><img src=\"https://colab.research.google.com/assets/colab-badge.svg\" alt=\"Open In Colab\"/></a>"
      ]
    },
    {
      "cell_type": "markdown",
      "metadata": {
        "id": "5eFj8gz9QKwF"
      },
      "source": [
        "#Palindromo \n",
        "Es una palabra que se lee de igual forma de un sentido y de sentido inverso, ejemplo:\n",
        "1.Sugus\n",
        "2.reconocer\n",
        "3.10101\n",
        "4.10:01\n",
        "\n",
        "### Planteando el problema:\n",
        "Se desea encontrar todos los palindromos que existen en la franja horaria de un dia completo,tomando en cuenta y como horario final las 23:59 horas.\n",
        "\n",
        "El algoritmo debe mostrar en pantalla todos los palindromos existentes en ese rango, si al finalol debe mostrar el conteo total de palindromos existentes. \n"
      ]
    },
    {
      "cell_type": "code",
      "metadata": {
        "id": "sxGmZnPOQANh",
        "outputId": "e944300c-aee6-4af7-9414-7926086db507",
        "colab": {
          "base_uri": "https://localhost:8080/",
          "height": 272
        }
      },
      "source": [
        "#Solucion \n",
        "\n",
        "contador=0\n",
        "print(\"Lista de palindromos\")\n",
        "for i in range(3):\n",
        "  for j in range(4):\n",
        "    for k in range(6):\n",
        "      for h in range(10):\n",
        "\n",
        "        if i == h:\n",
        "          if j== k:\n",
        "           print(i,j,\":\",k,h) \n",
        "           contador = contador + 1\n",
        "\n",
        "print(\"Numeros de palindromo:\")\n",
        "print(contador)\n"
      ],
      "execution_count": 22,
      "outputs": [
        {
          "output_type": "stream",
          "text": [
            "Lista de palindromos\n",
            "0 0 : 0 0\n",
            "0 1 : 1 0\n",
            "0 2 : 2 0\n",
            "0 3 : 3 0\n",
            "1 0 : 0 1\n",
            "1 1 : 1 1\n",
            "1 2 : 2 1\n",
            "1 3 : 3 1\n",
            "2 0 : 0 2\n",
            "2 1 : 1 2\n",
            "2 2 : 2 2\n",
            "2 3 : 3 2\n",
            "Numeros de palindromo:\n",
            "12\n"
          ],
          "name": "stdout"
        }
      ]
    }
  ]
}