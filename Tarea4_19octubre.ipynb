{
  "nbformat": 4,
  "nbformat_minor": 0,
  "metadata": {
    "colab": {
      "name": "Tarea4_19octubre.ipynb",
      "provenance": [],
      "authorship_tag": "ABX9TyNizEQLuffS1XoSVEvSQk1h",
      "include_colab_link": true
    },
    "kernelspec": {
      "name": "python3",
      "display_name": "Python 3"
    }
  },
  "cells": [
    {
      "cell_type": "markdown",
      "metadata": {
        "id": "view-in-github",
        "colab_type": "text"
      },
      "source": [
        "<a href=\"https://colab.research.google.com/github/JCesar-M/daa_2021_1/blob/master/Tarea4_19octubre.ipynb\" target=\"_parent\"><img src=\"https://colab.research.google.com/assets/colab-badge.svg\" alt=\"Open In Colab\"/></a>"
      ]
    },
    {
      "cell_type": "code",
      "metadata": {
        "id": "bFVGp6F_jK5F",
        "outputId": "a4c7f8e7-c77d-4d47-c0cb-2d4b79a1fa7d",
        "colab": {
          "base_uri": "https://localhost:8080/",
          "height": 199
        }
      },
      "source": [
        "n = int(input(\"Digita un numero: \"))\n",
        "\n",
        "contador = 0\n",
        "i = n\n",
        "print(\"Nivel 1\")\n",
        "while(i >= 1): \n",
        "  contador +=1\n",
        "  i = i // 2\n",
        "  print(\"Nivel 2\")\n",
        "basura = 3 + 2\n",
        "print(contador)\n",
        "\n",
        "\n",
        "\n"
      ],
      "execution_count": 6,
      "outputs": [
        {
          "output_type": "stream",
          "text": [
            "Digita un numero: 100\n",
            "Nivel 1\n",
            "Nivel 2\n",
            "Nivel 2\n",
            "Nivel 2\n",
            "Nivel 2\n",
            "Nivel 2\n",
            "Nivel 2\n",
            "Nivel 2\n",
            "7\n"
          ],
          "name": "stdout"
        }
      ]
    }
  ]
}