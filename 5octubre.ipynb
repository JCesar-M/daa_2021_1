{
  "nbformat": 4,
  "nbformat_minor": 0,
  "metadata": {
    "colab": {
      "name": "5octubre.ipynb",
      "provenance": [],
      "authorship_tag": "ABX9TyMcE9luRdGt/Hn5kRrTxPPY",
      "include_colab_link": true
    },
    "kernelspec": {
      "name": "python3",
      "display_name": "Python 3"
    }
  },
  "cells": [
    {
      "cell_type": "markdown",
      "metadata": {
        "id": "view-in-github",
        "colab_type": "text"
      },
      "source": [
        "<a href=\"https://colab.research.google.com/github/JCesar-M/daa_2021_1/blob/master/5octubre.ipynb\" target=\"_parent\"><img src=\"https://colab.research.google.com/assets/colab-badge.svg\" alt=\"Open In Colab\"/></a>"
      ]
    },
    {
      "cell_type": "markdown",
      "metadata": {
        "id": "gDgI0xIEBv8b"
      },
      "source": [
        "#Estructura de datos Pila(StacK)\n",
        "-Lest In Pirst out (LIFO)\n",
        "-De tipo lineal \n",
        "-Se pueden obtener e ingresar datos desde el tope\n",
        "-push para agregar \n",
        "-pop para sacar\n",
        "#Operaciones de las pilas \n",
        "1. is_empty(regrasa true o false)\n",
        "2. get_top(regresa el elemento del tope y regresa)\n",
        "3. push(mete un elemento en el tope)\n",
        "4. get_length(regresa el numero de elementos de elementos de la pila)\n",
        "\n",
        "\n",
        "\n"
      ]
    },
    {
      "cell_type": "code",
      "metadata": {
        "id": "UHNN8BM4_hJ9"
      },
      "source": [
        "class Stack(object):\n",
        "\n",
        "  def __init__(self):\n",
        "    self.__datos = []\n",
        "  \n",
        "  def is_empty(self):\n",
        "    return len(self.__datos)==0\n",
        "  \n",
        "  def get_top(self):\n",
        "    return self.__datos[-1] #ultimo elemento (-1)\n",
        "  \n",
        "  def pop(self):\n",
        "    return self.__datos.pop()\n",
        "  \n",
        "  def push (self, elemento):\n",
        "    self.__datos.append(elemento)\n",
        "  \n",
        "  def get_lenght(self):\n",
        "    return len(self.__datos)\n",
        "  \n",
        "  def to_string(self):\n",
        "    print(\"|-------------|\")    \n",
        "    for x in self.__datos[::-1]:\n",
        "      print(f\"{x}\")\n",
        "    print(\"|-------------|\\n\")"
      ],
      "execution_count": 67,
      "outputs": []
    },
    {
      "cell_type": "code",
      "metadata": {
        "id": "HuGbgajeIinY",
        "outputId": "409175d4-f802-4a82-d252-47facc9f7174",
        "colab": {
          "base_uri": "https://localhost:8080/"
        }
      },
      "source": [
        "pila1 = Stack()\n",
        "pila1.push(10)\n",
        "pila1.push(20)\n",
        "pila1.push(1)\n",
        "pila1.push(393)\n",
        "pila1.push(103)\n",
        "pila1.to_string()\n",
        "\n",
        "sacado=pila1.pop()\n",
        "print(sacado)\n",
        "pila1.to_string()\n",
        "\n",
        "pila1.push(444)\n",
        "pila1.push(233)\n",
        "pila1.to_string()\n",
        "\n",
        "print(f\"El elemento en el tope es:{pila1.get_top()}\")\n",
        "pila1.to_string()\n",
        "print(f\"la pila tiene {pila1.get_lenght()} elementos\")\n",
        "print(f\"¿La pila esta vacia?: {pila1.is_empty()}\")"
      ],
      "execution_count": 66,
      "outputs": [
        {
          "output_type": "stream",
          "text": [
            "|-------------|\n",
            "103\n",
            "393\n",
            "1\n",
            "20\n",
            "10\n",
            "|-------------|\n",
            "\n",
            "103\n",
            "|-------------|\n",
            "393\n",
            "1\n",
            "20\n",
            "10\n",
            "|-------------|\n",
            "\n",
            "|-------------|\n",
            "233\n",
            "444\n",
            "393\n",
            "1\n",
            "20\n",
            "10\n",
            "|-------------|\n",
            "\n",
            "El elemento en el tope es:233\n",
            "|-------------|\n",
            "233\n",
            "444\n",
            "393\n",
            "1\n",
            "20\n",
            "10\n",
            "|-------------|\n",
            "\n",
            "la pila tiene 6 elementos\n",
            "la pila esta vacia?: False\n"
          ],
          "name": "stdout"
        }
      ]
    },
    {
      "cell_type": "markdown",
      "metadata": {
        "id": "o7hHvqoXKILg"
      },
      "source": [
        "#Ejemplo de aplicacion de las pilas \n",
        " x = 4 + 5 + 6 + 3\n",
        " x = 4 + (5 + 6) + 3\n",
        "\n",
        "x = 4 + 5+ 6) +3\n",
        "\n",
        "\n",
        "\n",
        "\n",
        "\n",
        "if (a == b)\n",
        "\n",
        "\n",
        "#Reglas \n",
        "\n",
        "###'(' ---> push('@')\n",
        "###')' ---> pop()\n",
        "\n",
        "Si al final del recorrido la pila esta vacia, entonces la cadena es corecta.\n",
        "Si en un pop desencadena en querer sacar un elemento de la pila vacia, significa que la cadena no esta balanceada.\n",
        "\n"
      ]
    },
    {
      "cell_type": "markdown",
      "metadata": {
        "id": "rvHiOMPjNaBi"
      },
      "source": [
        "#Tarea \n",
        "Hacer un programa que valide el balalnceo de '{}','[]','{}'"
      ]
    }
  ]
}