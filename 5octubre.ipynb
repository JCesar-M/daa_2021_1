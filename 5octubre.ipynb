{
  "nbformat": 4,
  "nbformat_minor": 0,
  "metadata": {
    "colab": {
      "name": "5octubre.ipynb",
      "provenance": [],
      "toc_visible": true,
      "authorship_tag": "ABX9TyM22SJL3KaSQe4jN9ksBAeE",
      "include_colab_link": true
    },
    "kernelspec": {
      "name": "python3",
      "display_name": "Python 3"
    }
  },
  "cells": [
    {
      "cell_type": "markdown",
      "metadata": {
        "id": "view-in-github",
        "colab_type": "text"
      },
      "source": [
        "<a href=\"https://colab.research.google.com/github/JCesar-M/daa_2021_1/blob/master/5octubre.ipynb\" target=\"_parent\"><img src=\"https://colab.research.google.com/assets/colab-badge.svg\" alt=\"Open In Colab\"/></a>"
      ]
    },
    {
      "cell_type": "markdown",
      "metadata": {
        "id": "gDgI0xIEBv8b"
      },
      "source": [
        "#Estructura de datos Pila(StacK)\n",
        "-Lest In Pirst out (LIFO)\n",
        "-De tipo lineal \n",
        "-Se pueden obtener e ingresar datos desde el tope\n",
        "-push para agregar \n",
        "-pop para sacar\n",
        "#Operaciones de las pilas \n",
        "1. is_empty(regrasa true o false)\n",
        "2. get_top(regresa el elemento del tope y regresa)\n",
        "3. push(mete un elemento en el tope)\n",
        "4. get_length(regresa el numero de elementos de elementos de la pila)\n",
        "\n",
        "\n",
        "\n"
      ]
    },
    {
      "cell_type": "code",
      "metadata": {
        "id": "UHNN8BM4_hJ9"
      },
      "source": [
        "class Stack:\n",
        "\n",
        "  def _init_(self):\n",
        "    self._datos = []\n",
        "\n",
        "  def is_empty(self):\n",
        "    return len(self._datos)==0\n",
        "\n",
        "  def get_top (self):\n",
        "    return self._datos [-1]  \n",
        "\n",
        "  def pop(self):\n",
        "    return self._datos.pop()\n",
        "\n",
        "  def push(self , valor):\n",
        "    self._datos.append(valor)\n",
        "\n",
        "  def get_length(self):\n",
        "    return len (self._datos)\n",
        "\n",
        "  #Informacion rapida del objeto\n",
        "  def to_string( self ):\n",
        "    print(\"======================================\")\n",
        "    for ele in self._datos[-1::-1]:\n",
        "      print(f\" { ele } \")\n",
        "    print(\"=============================\\n\") "
      ],
      "execution_count": 14,
      "outputs": []
    },
    {
      "cell_type": "code",
      "metadata": {
        "id": "HuGbgajeIinY",
        "outputId": "6dad0c24-9b78-4a69-be5b-7cdffd0ec422",
        "colab": {
          "base_uri": "https://localhost:8080/",
          "height": 350
        }
      },
      "source": [
        "pila1 = Stack()\n",
        "pila1.push(10)\n",
        "pila1.push(20)\n",
        "pila1.push(1)\n",
        "pila1.push(393)\n",
        "pila1.push(103)\n",
        "pila1.to_string()\n",
        "\n",
        "sacado = pila1.pop()\n",
        "print(sacado)\n",
        "pila.to_string()\n",
        "\n",
        "\n",
        "pila1.push(444)\n",
        "pila1.push(233)\n",
        "pila1.to_string()\n",
        "\n",
        "print(f\"Lapila tiene {pila.get_length()} elementos\")\n",
        "pila1.to_string()\n",
        "print (f\"La pila tiene{pila1.get_length()} elementos\")\n",
        "print(f\"La pila esta vacia?: {pila1.is_empty()}\")"
      ],
      "execution_count": 15,
      "outputs": [
        {
          "output_type": "error",
          "ename": "AttributeError",
          "evalue": "ignored",
          "traceback": [
            "\u001b[0;31m---------------------------------------------------------------------------\u001b[0m",
            "\u001b[0;31mAttributeError\u001b[0m                            Traceback (most recent call last)",
            "\u001b[0;32m<ipython-input-15-d22aeb400ab2>\u001b[0m in \u001b[0;36m<module>\u001b[0;34m()\u001b[0m\n\u001b[1;32m      1\u001b[0m \u001b[0mpila1\u001b[0m \u001b[0;34m=\u001b[0m \u001b[0mStack\u001b[0m\u001b[0;34m(\u001b[0m\u001b[0;34m)\u001b[0m\u001b[0;34m\u001b[0m\u001b[0;34m\u001b[0m\u001b[0m\n\u001b[0;32m----> 2\u001b[0;31m \u001b[0mpila1\u001b[0m\u001b[0;34m.\u001b[0m\u001b[0mpush\u001b[0m\u001b[0;34m(\u001b[0m\u001b[0;36m10\u001b[0m\u001b[0;34m)\u001b[0m\u001b[0;34m\u001b[0m\u001b[0;34m\u001b[0m\u001b[0m\n\u001b[0m\u001b[1;32m      3\u001b[0m \u001b[0mpila1\u001b[0m\u001b[0;34m.\u001b[0m\u001b[0mpush\u001b[0m\u001b[0;34m(\u001b[0m\u001b[0;36m20\u001b[0m\u001b[0;34m)\u001b[0m\u001b[0;34m\u001b[0m\u001b[0;34m\u001b[0m\u001b[0m\n\u001b[1;32m      4\u001b[0m \u001b[0mpila1\u001b[0m\u001b[0;34m.\u001b[0m\u001b[0mpush\u001b[0m\u001b[0;34m(\u001b[0m\u001b[0;36m1\u001b[0m\u001b[0;34m)\u001b[0m\u001b[0;34m\u001b[0m\u001b[0;34m\u001b[0m\u001b[0m\n\u001b[1;32m      5\u001b[0m \u001b[0mpila1\u001b[0m\u001b[0;34m.\u001b[0m\u001b[0mpush\u001b[0m\u001b[0;34m(\u001b[0m\u001b[0;36m393\u001b[0m\u001b[0;34m)\u001b[0m\u001b[0;34m\u001b[0m\u001b[0;34m\u001b[0m\u001b[0m\n",
            "\u001b[0;32m<ipython-input-14-f91548f259f5>\u001b[0m in \u001b[0;36mpush\u001b[0;34m(self, valor)\u001b[0m\n\u001b[1;32m     14\u001b[0m \u001b[0;34m\u001b[0m\u001b[0m\n\u001b[1;32m     15\u001b[0m   \u001b[0;32mdef\u001b[0m \u001b[0mpush\u001b[0m\u001b[0;34m(\u001b[0m\u001b[0mself\u001b[0m \u001b[0;34m,\u001b[0m \u001b[0mvalor\u001b[0m\u001b[0;34m)\u001b[0m\u001b[0;34m:\u001b[0m\u001b[0;34m\u001b[0m\u001b[0;34m\u001b[0m\u001b[0m\n\u001b[0;32m---> 16\u001b[0;31m     \u001b[0mself\u001b[0m\u001b[0;34m.\u001b[0m\u001b[0m_datos\u001b[0m\u001b[0;34m.\u001b[0m\u001b[0mappend\u001b[0m\u001b[0;34m(\u001b[0m\u001b[0mvalor\u001b[0m\u001b[0;34m)\u001b[0m\u001b[0;34m\u001b[0m\u001b[0;34m\u001b[0m\u001b[0m\n\u001b[0m\u001b[1;32m     17\u001b[0m \u001b[0;34m\u001b[0m\u001b[0m\n\u001b[1;32m     18\u001b[0m   \u001b[0;32mdef\u001b[0m \u001b[0mget_length\u001b[0m\u001b[0;34m(\u001b[0m\u001b[0mself\u001b[0m\u001b[0;34m)\u001b[0m\u001b[0;34m:\u001b[0m\u001b[0;34m\u001b[0m\u001b[0;34m\u001b[0m\u001b[0m\n",
            "\u001b[0;31mAttributeError\u001b[0m: 'Stack' object has no attribute '_datos'"
          ]
        }
      ]
    },
    {
      "cell_type": "markdown",
      "metadata": {
        "id": "o7hHvqoXKILg"
      },
      "source": [
        "#Ejemplo de aplicacion de las pilas \n",
        " x = 4 + 5 + 6 + 3\n",
        " x = 4 + (5 + 6) + 3\n",
        "\n",
        "x = 4 + 5+ 6) +3\n",
        "\n",
        "\n",
        "\n",
        "\n",
        "\n",
        "if (a == b)\n",
        "\n",
        "\n",
        "#Reglas \n",
        "\n",
        "###'(' ---> push('@')\n",
        "###')' ---> pop()\n",
        "\n",
        "Si al final del recorrido la pila esta vacia, entonces la cadena es corecta.\n",
        "Si en un pop desencadena en querer sacar un elemento de la pila vacia, significa que la cadena no esta balanceada.\n",
        "\n"
      ]
    },
    {
      "cell_type": "markdown",
      "metadata": {
        "id": "rvHiOMPjNaBi"
      },
      "source": [
        "#Tarea \n",
        "Hacer un programa que valide el balalnceo de '{}','[]','{}'"
      ]
    }
  ]
}