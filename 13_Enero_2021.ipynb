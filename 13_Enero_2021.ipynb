{
  "nbformat": 4,
  "nbformat_minor": 0,
  "metadata": {
    "colab": {
      "name": "13-Enero-2021.ipynb",
      "provenance": [],
      "authorship_tag": "ABX9TyNFzIMhgnkrQ4WXA5ZMQzEK",
      "include_colab_link": true
    },
    "kernelspec": {
      "name": "python3",
      "display_name": "Python 3"
    }
  },
  "cells": [
    {
      "cell_type": "markdown",
      "metadata": {
        "id": "view-in-github",
        "colab_type": "text"
      },
      "source": [
        "<a href=\"https://colab.research.google.com/github/JCesar-M/daa_2021_1/blob/master/13_Enero_2021.ipynb\" target=\"_parent\"><img src=\"https://colab.research.google.com/assets/colab-badge.svg\" alt=\"Open In Colab\"/></a>"
      ]
    },
    {
      "cell_type": "code",
      "metadata": {
        "id": "e4ONIx28Ziyk"
      },
      "source": [
        "class NodoArbol:\r\n",
        "    def __init__( self , dato ,  hijo_izq=None , hijo_der=None):\r\n",
        "        self.dato = dato\r\n",
        "        self.left = hijo_izq\r\n",
        "        self.right = hijo_der"
      ],
      "execution_count": 1,
      "outputs": []
    },
    {
      "cell_type": "code",
      "metadata": {
        "id": "f3J-W3NpS6BV"
      },
      "source": [
        "class BinarySearchTree: \r\n",
        "    def __init__(self):\r\n",
        "      self.__root = None\r\n",
        "    \r\n",
        "    def insert(self , value):\r\n",
        "      if self.root = None: \r\n",
        "          self.__root = NodoArbol(Value,None,None)\r\n",
        "      else: \r\n",
        "        #preguntar si value es menor que root , de ser el caso \r\n",
        "        #Insertar a la izq. Pero... puede ser caso que el sub arbol \r\n",
        "        #izq ya tenga muchos elementos...\r\n",
        "\r\n",
        "        self.__insert_nodo__(self.__root, value)\r\n",
        "\r\n",
        "     def __insert_Nodo__(self, nodo, value):\r\n",
        "        if nodo.dato == value: \r\n",
        "          pass\r\n",
        "        elif value < nodo.dato: \r\n",
        "            if nodo.left == None: \r\n",
        "               nodo.left = NodoArbol(value,None,None)\r\n",
        "            else: \r\n",
        "              self.__insert_nodo__(nodo.left,value)\r\n",
        "        else: \r\n",
        "          if nodo.right == None: \r\n",
        "             nodo.right = NodoArbol(value,None,None)\r\n",
        "          else: \r\n",
        "            self.__insert_nodo__(nodo.right,value)\r\n",
        "\r\n"
      ],
      "execution_count": null,
      "outputs": []
    }
  ]
}