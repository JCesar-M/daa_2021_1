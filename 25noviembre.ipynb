{
  "nbformat": 4,
  "nbformat_minor": 0,
  "metadata": {
    "colab": {
      "name": "25noviembre.ipynb",
      "provenance": [],
      "collapsed_sections": [],
      "authorship_tag": "ABX9TyOP+b/DESisSVCHMWdf8GHK",
      "include_colab_link": true
    },
    "kernelspec": {
      "name": "python3",
      "display_name": "Python 3"
    }
  },
  "cells": [
    {
      "cell_type": "markdown",
      "metadata": {
        "id": "view-in-github",
        "colab_type": "text"
      },
      "source": [
        "<a href=\"https://colab.research.google.com/github/JCesar-M/daa_2021_1/blob/master/25noviembre.ipynb\" target=\"_parent\"><img src=\"https://colab.research.google.com/assets/colab-badge.svg\" alt=\"Open In Colab\"/></a>"
      ]
    },
    {
      "cell_type": "code",
      "metadata": {
        "colab": {
          "base_uri": "https://localhost:8080/"
        },
        "id": "k70lJqDA5_FP",
        "outputId": "8a8e4d79-8b71-45eb-d7ad-f1b9bb182c13"
      },
      "source": [
        "\n",
        "\n",
        "frase=\"\"\"El lema que anima a la Universidad Nacional, Por mi raza hablará el espíritu, revela la vocación humanística con la que fue concebida. El autor de esta célebre frase, José Vasconcelos, asumió la rectoría en 1920, en una época en que las esperanzas de la Revolución aún estaban vivas,\n",
        " había una gran fe en la Patria y el ánimo redentor se extendía en el ambiente.\"\"\"\n",
        "\n",
        "frase = frase.strip().replace(\"\\n\",\"\").replace(\",\",\"\").replace(\".\",\"\").lower().split(\" \")\n",
        "print(frase)\n",
        "\n",
        "frecuencias = {}\n",
        "for index in range(len(frase)):\n",
        "    if frase[index] in frecuencias: \n",
        "      pass\n",
        "    else:\n",
        "        frecuencias[frase[index]] = 1  \n",
        "        for pivote in range(index + 1, len(frase),1):\n",
        "            # print(frase[index].strip(), \"comparada contra: \", frase[pivote].strip())\n",
        "          if frase[index] == frase[pivote]:\n",
        "              frecuencias[frase[index]] +=1\n",
        "print(frecuencias)      \n"
      ],
      "execution_count": 11,
      "outputs": [
        {
          "output_type": "stream",
          "text": [
            "['el', 'lema', 'que', 'anima', 'a', 'la', 'universidad', 'nacional', 'por', 'mi', 'raza', 'hablará', 'el', 'espíritu', 'revela', 'la', 'vocación', 'humanística', 'con', 'la', 'que', 'fue', 'concebida', 'el', 'autor', 'de', 'esta', 'célebre', 'frase', 'josé', 'vasconcelos', 'asumió', 'la', 'rectoría', 'en', '1920', 'en', 'una', 'época', 'en', 'que', 'las', 'esperanzas', 'de', 'la', 'revolución', 'aún', 'estaban', 'vivas', 'había', 'una', 'gran', 'fe', 'en', 'la', 'patria', 'y', 'el', 'ánimo', 'redentor', 'se', 'extendía', 'en', 'el', 'ambiente']\n",
            "{'el': 5, 'lema': 1, 'que': 3, 'anima': 1, 'a': 1, 'la': 6, 'universidad': 1, 'nacional': 1, 'por': 1, 'mi': 1, 'raza': 1, 'hablará': 1, 'espíritu': 1, 'revela': 1, 'vocación': 1, 'humanística': 1, 'con': 1, 'fue': 1, 'concebida': 1, 'autor': 1, 'de': 2, 'esta': 1, 'célebre': 1, 'frase': 1, 'josé': 1, 'vasconcelos': 1, 'asumió': 1, 'rectoría': 1, 'en': 5, '1920': 1, 'una': 2, 'época': 1, 'las': 1, 'esperanzas': 1, 'revolución': 1, 'aún': 1, 'estaban': 1, 'vivas': 1, 'había': 1, 'gran': 1, 'fe': 1, 'patria': 1, 'y': 1, 'ánimo': 1, 'redentor': 1, 'se': 1, 'extendía': 1, 'ambiente': 1}\n"
          ],
          "name": "stdout"
        }
      ]
    },
    {
      "cell_type": "code",
      "metadata": {
        "colab": {
          "base_uri": "https://localhost:8080/"
        },
        "id": "QjIPSmhvFq2E",
        "outputId": "f8e44251-05d9-49d4-87b7-b243391e9450"
      },
      "source": [
        "frase=\"\"\"El lema que anima a la Universidad Nacional, Por mi raza hablará el espíritu, revela la vocación humanística con la que fue concebida. El autor de esta célebre frase, José Vasconcelos, asumió la rectoría en 1920, en una época en que las esperanzas de la Revolución aún estaban vivas,\n",
        " había una gran fe en la Patria y el ánimo redentor se extendía en el ambiente.\"\"\"\n",
        "\n",
        "frase = frase.strip().replace(\"\\n\",\"\").replace(\",\",\"\").replace(\".\",\"\").lower().split(\" \")\n",
        "print(frase)\n",
        "\n",
        "frecuencias = {}\n",
        "for index in range(len(frase)):\n",
        "    print(hash(frase[index]))\n",
        "    if frase[index] in frecuencias: \n",
        "        frecuencias[frase[index]] +=1\n",
        "    else:\n",
        "        frecuencias[frase[index]] =1\n",
        "\n",
        "print(frecuencias)"
      ],
      "execution_count": 13,
      "outputs": [
        {
          "output_type": "stream",
          "text": [
            "['el', 'lema', 'que', 'anima', 'a', 'la', 'universidad', 'nacional', 'por', 'mi', 'raza', 'hablará', 'el', 'espíritu', 'revela', 'la', 'vocación', 'humanística', 'con', 'la', 'que', 'fue', 'concebida', 'el', 'autor', 'de', 'esta', 'célebre', 'frase', 'josé', 'vasconcelos', 'asumió', 'la', 'rectoría', 'en', '1920', 'en', 'una', 'época', 'en', 'que', 'las', 'esperanzas', 'de', 'la', 'revolución', 'aún', 'estaban', 'vivas', 'había', 'una', 'gran', 'fe', 'en', 'la', 'patria', 'y', 'el', 'ánimo', 'redentor', 'se', 'extendía', 'en', 'el', 'ambiente']\n",
            "-5207404037464429420\n",
            "-1853006115340507985\n",
            "-742283913599600936\n",
            "-4788997039338064513\n",
            "5019419221964548583\n",
            "2027786490243927898\n",
            "-3828705354287045465\n",
            "-480788291950262361\n",
            "-3679670189180949038\n",
            "-3548465760109239975\n",
            "-3887601656404734586\n",
            "8863342786461376296\n",
            "-5207404037464429420\n",
            "438386631166276486\n",
            "-6815343424814583207\n",
            "2027786490243927898\n",
            "3635233886339514262\n",
            "-7815589372382623451\n",
            "-7890998475106298234\n",
            "2027786490243927898\n",
            "-742283913599600936\n",
            "2363711415189623764\n",
            "-4780924006855154744\n",
            "-5207404037464429420\n",
            "4829494466120137002\n",
            "6658336447114648730\n",
            "5780611023775476993\n",
            "9063895164436107320\n",
            "5489334226085413576\n",
            "-194474687793054267\n",
            "-9002583269747062450\n",
            "-482153410425223638\n",
            "2027786490243927898\n",
            "-5792232997264374484\n",
            "2701193300310243803\n",
            "-1554133188701178700\n",
            "2701193300310243803\n",
            "-1928542849432623317\n",
            "7356574025986351576\n",
            "2701193300310243803\n",
            "-742283913599600936\n",
            "-5522154888907472139\n",
            "8663202000343804549\n",
            "6658336447114648730\n",
            "2027786490243927898\n",
            "-5902066172155093667\n",
            "-8074492260926792144\n",
            "7358609682966348445\n",
            "-1886268772424378802\n",
            "8493363077017180143\n",
            "-1928542849432623317\n",
            "-3486423761881587819\n",
            "-1704497056303219259\n",
            "2701193300310243803\n",
            "2027786490243927898\n",
            "-4291040808459366070\n",
            "-8457368601316187703\n",
            "-5207404037464429420\n",
            "-6108450000850997270\n",
            "-3956245972891429901\n",
            "-4756328104461634357\n",
            "-8069499466548887437\n",
            "2701193300310243803\n",
            "-5207404037464429420\n",
            "279432304227024639\n",
            "{'el': 5, 'lema': 1, 'que': 3, 'anima': 1, 'a': 1, 'la': 6, 'universidad': 1, 'nacional': 1, 'por': 1, 'mi': 1, 'raza': 1, 'hablará': 1, 'espíritu': 1, 'revela': 1, 'vocación': 1, 'humanística': 1, 'con': 1, 'fue': 1, 'concebida': 1, 'autor': 1, 'de': 2, 'esta': 1, 'célebre': 1, 'frase': 1, 'josé': 1, 'vasconcelos': 1, 'asumió': 1, 'rectoría': 1, 'en': 5, '1920': 1, 'una': 2, 'época': 1, 'las': 1, 'esperanzas': 1, 'revolución': 1, 'aún': 1, 'estaban': 1, 'vivas': 1, 'había': 1, 'gran': 1, 'fe': 1, 'patria': 1, 'y': 1, 'ánimo': 1, 'redentor': 1, 'se': 1, 'extendía': 1, 'ambiente': 1}\n"
          ],
          "name": "stdout"
        }
      ]
    }
  ]
}