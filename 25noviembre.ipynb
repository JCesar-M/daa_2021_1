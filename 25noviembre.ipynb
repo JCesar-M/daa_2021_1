{
  "nbformat": 4,
  "nbformat_minor": 0,
  "metadata": {
    "colab": {
      "name": "25noviembre.ipynb",
      "provenance": [],
      "collapsed_sections": [],
      "authorship_tag": "ABX9TyMQA3s4+7bRliEJawdyOD0y",
      "include_colab_link": true
    },
    "kernelspec": {
      "name": "python3",
      "display_name": "Python 3"
    }
  },
  "cells": [
    {
      "cell_type": "markdown",
      "metadata": {
        "id": "view-in-github",
        "colab_type": "text"
      },
      "source": [
        "<a href=\"https://colab.research.google.com/github/JCesar-M/daa_2021_1/blob/master/25noviembre.ipynb\" target=\"_parent\"><img src=\"https://colab.research.google.com/assets/colab-badge.svg\" alt=\"Open In Colab\"/></a>"
      ]
    },
    {
      "cell_type": "code",
      "metadata": {
        "id": "k70lJqDA5_FP"
      },
      "source": [
        "\n",
        "frase=\"\"\"El lema que anima a la Universidad Nacional, Por mi raza hablará el espíritu, revela la vocación humanística con la que fue concebida. El autor de esta célebre frase, José Vasconcelos, asumió la rectoría en 1920, en una época en que las esperanzas de la Revolución aún estaban vivas,\n",
        " había una gran fe en la Patria y el ánimo redentor se extendía en el ambiente.\"\"\"\n",
        "\n",
        "frase = frase.strip().replace(\"\\n\",\"\").replace(\",\",\"\").replace(\".\",\"\").lower().split(\" \")\n",
        "print(frase)\n",
        "\n",
        "frecuencias = {}\n",
        "for index in range(len(frase)):\n",
        "    if frase[index] in frecuencias: \n",
        "      pass\n",
        "    else:\n",
        "        frecuencias[frase[index]] = 1  \n",
        "        for pivote in range(index + 1, len(frase),1):\n",
        "            # print(frase[index].strip(), \"comparada contra: \", frase[pivote].strip())\n",
        "          if frase[index] == frase[pivote]:\n",
        "              frecuencias[frase[index]] +=1\n",
        "print(frecuencias)      \n"
      ],
      "execution_count": null,
      "outputs": []
    },
    {
      "cell_type": "code",
      "metadata": {
        "id": "QjIPSmhvFq2E"
      },
      "source": [
        "frase=\"\"\"El lema que anima a la Universidad Nacional, Por mi raza hablará el espíritu, revela la vocación humanística con la que fue concebida. El autor de esta célebre frase, José Vasconcelos, asumió la rectoría en 1920, en una época en que las esperanzas de la Revolución aún estaban vivas,\n",
        " había una gran fe en la Patria y el ánimo redentor se extendía en el ambiente.\"\"\"\n",
        "\n",
        "frase = frase.strip().replace(\"\\n\",\"\").replace(\",\",\"\").replace(\".\",\"\").lower().split(\" \")\n",
        "print(frase)\n",
        "\n",
        "frecuencias = {}\n",
        "for index in range(len(frase)):\n",
        "    print(hash(frase[index]))\n",
        "    if frase[index] in frecuencias: \n",
        "        frecuencias[frase[index]] +=1\n",
        "    else:\n",
        "        frecuencias[frase[index]] =1\n",
        "\n",
        "print(frecuencias)"
      ],
      "execution_count": null,
      "outputs": []
    }
  ]
}