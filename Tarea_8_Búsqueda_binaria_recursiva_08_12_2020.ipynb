{
  "nbformat": 4,
  "nbformat_minor": 0,
  "metadata": {
    "colab": {
      "name": "Tarea 8_Búsqueda binaria recursiva_08/12/2020.ipynb",
      "provenance": [],
      "collapsed_sections": [],
      "authorship_tag": "ABX9TyMVVDy61D6I10mS2ZxjO33+",
      "include_colab_link": true
    },
    "kernelspec": {
      "name": "python3",
      "display_name": "Python 3"
    }
  },
  "cells": [
    {
      "cell_type": "markdown",
      "metadata": {
        "id": "view-in-github",
        "colab_type": "text"
      },
      "source": [
        "<a href=\"https://colab.research.google.com/github/JCesar-M/daa_2021_1/blob/master/Tarea_8_B%C3%BAsqueda_binaria_recursiva_08_12_2020.ipynb\" target=\"_parent\"><img src=\"https://colab.research.google.com/assets/colab-badge.svg\" alt=\"Open In Colab\"/></a>"
      ]
    },
    {
      "cell_type": "code",
      "metadata": {
        "colab": {
          "base_uri": "https://localhost:8080/"
        },
        "id": "pOEW0f3BnDgc",
        "outputId": "b83fed19-ed69-49f0-cc84-dc58fccb6b7d"
      },
      "source": [
        "alumno1={'id':2, 'nombre':\"Juan\" , 'carrera':\"ICO\", 'promedio':7.67}\r\n",
        "alumno2={'id':4, 'nombre':\"Rocio\" , 'carrera':\"ICI\", 'promedio':8.67}\r\n",
        "alumno3={'id':5, 'nombre':\"Diego\" , 'carrera':\"DER\", 'promedio':8.98}\r\n",
        "alumno4={'id':7, 'nombre':\"May\" , 'carrera':\"ICI\", 'promedio':9.87}\r\n",
        "alumno5={'id':9, 'nombre':\"Rob\" , 'carrera':\"IME\", 'promedio':10.00}\r\n",
        "alumno6={'id':10, 'nombre':\"Santi\" , 'carrera':\"ICO\", 'promedio':5.37}\r\n",
        "alumno7={'id':14, 'nombre':\"Moy\" , 'carrera':\"IME\", 'promedio':6.85}\r\n",
        "alumno8={'id':16, 'nombre':\"Diana\" , 'carrera':\"DER\", 'promedio':9.99}\r\n",
        "alumno9={'id':19, 'nombre':\"Zoila\" , 'carrera':\"ICO\", 'promedio':8.22}\r\n",
        "alumno10={'id':22, 'nombre':\"Armando\" , 'carrera':\"ICO\", 'promedio':7.32}\r\n",
        "\r\n",
        "bd = []\r\n",
        "bd.append(alumno1)\r\n",
        "bd.append(alumno2)\r\n",
        "bd.append(alumno3)\r\n",
        "bd.append(alumno4)\r\n",
        "bd.append(alumno5)\r\n",
        "bd.append(alumno6)\r\n",
        "bd.append(alumno7)\r\n",
        "bd.append(alumno8)\r\n",
        "bd.append(alumno9)\r\n",
        "bd.append(alumno10)\r\n",
        "\r\n",
        "def busquedaBinariaREC(base, id):\r\n",
        "    if  len(base) == 0:\r\n",
        "      return 0\r\n",
        "    else: \r\n",
        "      puntoMedio = len(base) // 2\r\n",
        "      if base[puntoMedio][\"id\"] == id:\r\n",
        "        return base[puntoMedio]\r\n",
        "      else:\r\n",
        "        if id < base[puntoMedio][\"id\"]:\r\n",
        "          return busquedaBinariaREC(base[:puntoMedio],id)\r\n",
        "        else:\r\n",
        "          return busquedaBinariaREC(base[puntoMedio+1:],id) \r\n",
        "\r\n",
        "\r\n",
        "id = int(input(\"¿Dame el id del alumno a buscar?: \"))\r\n",
        "alumno = busquedaBinariaREC(bd,id)\r\n",
        "if alumno == 0:\r\n",
        "  print(\"El alumno no existe\")\r\n",
        "else:\r\n",
        "  print(f\"{alumno.get('nombre')} estudia la carrera {alumno.get('carrera')} y tiene un promedio {alumno.get('promedio')}\")\r\n"
      ],
      "execution_count": 36,
      "outputs": [
        {
          "output_type": "stream",
          "text": [
            "¿Dame el id del alumno a buscar?: 22\n",
            "Armando estudia la carrera ICO y tiene un promedio 7.32\n"
          ],
          "name": "stdout"
        }
      ]
    }
  ]
}