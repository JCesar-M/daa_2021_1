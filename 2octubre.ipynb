{
  "nbformat": 4,
  "nbformat_minor": 0,
  "metadata": {
    "colab": {
      "name": "2octubre.ipynb",
      "provenance": [],
      "authorship_tag": "ABX9TyN54DrFHIpGWikPGeyXMGVA",
      "include_colab_link": true
    },
    "kernelspec": {
      "name": "python3",
      "display_name": "Python 3"
    }
  },
  "cells": [
    {
      "cell_type": "markdown",
      "metadata": {
        "id": "view-in-github",
        "colab_type": "text"
      },
      "source": [
        "<a href=\"https://colab.research.google.com/github/JCesar-M/daa_2021_1/blob/master/2octubre.ipynb\" target=\"_parent\"><img src=\"https://colab.research.google.com/assets/colab-badge.svg\" alt=\"Open In Colab\"/></a>"
      ]
    },
    {
      "cell_type": "markdown",
      "metadata": {
        "id": "gBKMnCB0ikXA"
      },
      "source": [
        "## Meteorología en México\n",
        "En Sistema meteorológico nacional lleva el registro de la lluvias desde el año 1985 y lo pone a disposición de la población por medio de la pagina datos.gob.mx.\n",
        "\n",
        "En la siguiente liga se encuentran 2  archivos separados por comas CSV correspondientes a los registros de lluvias\n",
        "mensuales y anuales de los años 2017 y 2018. En los columnas se encuentran 13,  correspondientes al promedio mensual y el promedio anual.\n",
        "En los renglones se encuentran 33, correspondientes a cada cada uno de los 32 estados y a nivel nacional.\n",
        "\n",
        "https://drive.google.com/file/d/1lamkxgq2AsXRu81Y4JTNXLVld4og7nxt/view?usp=sharing\n",
        "\n",
        "## Planteamiento del problema\n",
        "Diseñar un algoritmo y programarlo para que:\n",
        "1. Solicite por teclado el año, el estado y el mes, en base a esa información:\n",
        "- muestre en pantalla el promedio de ese mes en ese estado en el año seleccionado.\n",
        "- muestre en pantalla el promedio anual del  estado seleccionado.\n",
        "- muestre la suma de los 12 meses de ese estado en el año selecc\n",
        "ionado.\n",
        "\n",
        "2. Busque el mes que mas llovió en todos los estados durante esos dos años. Imprimir año, estado y mes.\n",
        "3. Busque el mes que menos llovió en los dos. Imprimir año, estado y mes."
      ]
    },
    {
      "cell_type": "code",
      "metadata": {
        "id": "Wff8Fd-7h850"
      },
      "source": [
        "import java.io.BufferedReader;\n",
        "import java.io.File;\n",
        "import java.io.FileNotFoundException;\n",
        "import java.io.FileReader;\n",
        "import java.io.IOException;\n",
        "import java.util.ArrayList;\n",
        "\n",
        "import javax.swing.JOptionPane;\n",
        "\n",
        "public class LeerArchivo {\n",
        "\t\n",
        "\tArrayList<String> archivos = new ArrayList<String>();\n",
        "\n",
        "\tpublic void leerArchivo() throws FileNotFoundException, IOException{\n",
        "\t\t\n",
        "\t\tFile archivo = new File(\"C:\\\\Users\\\\cesar\\\\eclipse-workspace2\\\\2Octubre\\\\2017Precip.csv\");\n",
        "\t\tFileReader fr  = new FileReader(archivo);\n",
        "\t\tBufferedReader bf = new BufferedReader(fr);\n",
        "\t\t\n",
        "\t\tString linea;\n",
        "\t\t\n",
        "\t\twhile((linea = bf.readLine()) != null) {\n",
        "\t\t\tSystem.out.println(linea);\n",
        "\t\t}\n",
        "\t\n",
        "\t}\n",
        "\t\n",
        "\tpublic void leerArchivo1() {\n",
        "\t\ttry {\n",
        "\t\t\tleerArchivo();\n",
        "\t\t} catch (FileNotFoundException ex) {\n",
        "\t\t\tJOptionPane.showMessageDialog(null,\"No se a encotrado el archivo deseado, por favor verifique la ruta\");\n",
        "\t\t} catch(IOException e) {\n",
        "\t\t\tJOptionPane.showMessageDialog(null,\"Ha ocurrido una excepcion verificada\");\n",
        "\t\t}\n",
        "\t\t\n",
        "\t\tSystem.out.println(\"Programa terminado\");\n",
        "\t}\n",
        "\t\n",
        "\t\n",
        "\tpublic static void main(String[] args)\n",
        "\t{\n",
        "\t\tLeerArchivo prueba = new LeerArchivo();\n",
        "\t\tprueba.leerArchivo1();\n",
        "\t\t\n",
        "\t}\n",
        "\t\n",
        "\tpublic static void buscarArchivos(String annio , String estado, String mes ) {\n",
        "\t\t\n",
        "\t\t\n",
        "\t}\n",
        "\t\n",
        "}"
      ],
      "execution_count": null,
      "outputs": []
    },
    {
      "cell_type": "code",
      "metadata": {
        "id": "uEthWoyFw8rn"
      },
      "source": [
        "#@title Example form fields\n",
        "#@markdown Forms support many types of fields.\n",
        "\n",
        "no_type_checking = ''  #@param\n",
        "string_type = 'example'  #@param {type: \"string\"}\n",
        "slider_value = 142  #@param {type: \"slider\", min: 100, max: 200}\n",
        "number = 102  #@param {type: \"number\"}\n",
        "date = '2010-11-05'  #@param {type: \"date\"}\n",
        "pick_me = \"monday\"  #@param ['monday', 'tuesday', 'wednesday', 'thursday']\n",
        "select_or_input = \"apples\" #@param [\"apples\", \"bananas\", \"oranges\"] {allow-input: true}\n",
        "#@markdown ---\n"
      ],
      "execution_count": null,
      "outputs": []
    }
  ]
}